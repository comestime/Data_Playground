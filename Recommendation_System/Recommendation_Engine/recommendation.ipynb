{
 "cells": [
  {
   "cell_type": "code",
   "execution_count": 1,
   "metadata": {
    "collapsed": true
   },
   "outputs": [],
   "source": [
    "import os\n",
    "# need to copy the driver class to $SPARK_HOME/jars\n",
    "# os.environ['PYSPARK_SUBMIT_ARGS'] = '--jars /Users/comestime/Downloads/dump/mysql-connector-java-5.1.42-bin.jar \\\n",
    "#                                      pyspark-shell'\n",
    "\n",
    "from pyspark import SparkContext\n",
    "from pyspark.conf import SparkConf\n",
    "from pyspark.sql import SparkSession, HiveContext, Row\n",
    "\n",
    "from pyspark.mllib.recommendation import ALS\n",
    "\n",
    "import json"
   ]
  },
  {
   "cell_type": "code",
   "execution_count": 2,
   "metadata": {
    "collapsed": true
   },
   "outputs": [],
   "source": [
    "# game detail data\n",
    "game_detail = 'full_data/game_detail.txt'\n",
    "\n",
    "# sample data for popularity recommendation\n",
    "sample_user_owned_games = 'sample_data/user_owned_games_sample.json'\n",
    "sample_user_friend_list = 'sample_data/user_friend_list_sample.json'\n",
    "\n",
    "# sample data for collaborative filtering recommendation\n",
    "sample_user_recent_games = 'sample_data/user_recently_played_games_sample.json'\n",
    "sample_user_idx = 'sample_data/user_idx_sample.json'\n",
    "\n",
    "# output files using sample data\n",
    "sample_recommended = 'sample_result/sample_recommended.json'\n",
    "sample_final_recommended = 'sample_result/sample_final_recommended'\n",
    "\n",
    "# full data for popularity recommendation\n",
    "full_user_owned_games = 'full_data/user_owned_games_full.json'\n",
    "full_user_friend_list = 'full_data/user_friend_list_full.json'\n",
    "\n",
    "# full data for collaborative filtering recommendation\n",
    "full_user_recent_games = 'full_data/user_recently_played_games_full.json'\n",
    "full_user_idx = 'full_data/user_idx_full.json'\n",
    "\n",
    "# output files using full data\n",
    "full_recommended = 'full_result/full_recommended.json'\n",
    "full_final_recommended = 'full_result/full_final_recommended'"
   ]
  },
  {
   "cell_type": "code",
   "execution_count": 3,
   "metadata": {
    "collapsed": false
   },
   "outputs": [],
   "source": [
    "sc = SparkSession \\\n",
    "    .builder \\\n",
    "    .appName(\"spark-recommender\") \\\n",
    "    .getOrCreate()\n",
    "\n",
    "hiveCtx = HiveContext(sc)"
   ]
  },
  {
   "cell_type": "markdown",
   "metadata": {},
   "source": [
    "## Popularity Based Recommendation System\n",
    "\n",
    "For the sake of simplicity, we implement a popularity based recommendation system, by summarizing play time in user owned games table. Note The recommendation results will be globally the same, i.e., same for all users.\n",
    "\n",
    "First we load game_detail table from json file."
   ]
  },
  {
   "cell_type": "code",
   "execution_count": 4,
   "metadata": {
    "collapsed": false
   },
   "outputs": [
    {
     "name": "stdout",
     "output_type": "stream",
     "text": [
      "root\n",
      " |-- _corrupt_record: string (nullable = true)\n",
      " |-- about_the_game: string (nullable = true)\n",
      " |-- achievements: struct (nullable = true)\n",
      " |    |-- highlighted: array (nullable = true)\n",
      " |    |    |-- element: struct (containsNull = true)\n",
      " |    |    |    |-- name: string (nullable = true)\n",
      " |    |    |    |-- path: string (nullable = true)\n",
      " |    |-- total: long (nullable = true)\n",
      " |-- alternate_appid: string (nullable = true)\n",
      " |-- background: string (nullable = true)\n",
      " |-- categories: array (nullable = true)\n",
      " |    |-- element: struct (containsNull = true)\n",
      " |    |    |-- description: string (nullable = true)\n",
      " |    |    |-- id: long (nullable = true)\n",
      " |-- controller_support: string (nullable = true)\n",
      " |-- demos: array (nullable = true)\n",
      " |    |-- element: struct (containsNull = true)\n",
      " |    |    |-- appid: long (nullable = true)\n",
      " |    |    |-- description: string (nullable = true)\n",
      " |-- detailed_description: string (nullable = true)\n",
      " |-- developers: array (nullable = true)\n",
      " |    |-- element: string (containsNull = true)\n",
      " |-- dlc: array (nullable = true)\n",
      " |    |-- element: long (containsNull = true)\n",
      " |-- drm_notice: string (nullable = true)\n",
      " |-- ext_user_account_notice: string (nullable = true)\n",
      " |-- fullgame: struct (nullable = true)\n",
      " |    |-- appid: string (nullable = true)\n",
      " |    |-- name: string (nullable = true)\n",
      " |-- genres: array (nullable = true)\n",
      " |    |-- element: struct (containsNull = true)\n",
      " |    |    |-- description: string (nullable = true)\n",
      " |    |    |-- id: string (nullable = true)\n",
      " |-- header_image: string (nullable = true)\n",
      " |-- is_free: boolean (nullable = true)\n",
      " |-- legal_notice: string (nullable = true)\n",
      " |-- linux_requirements: string (nullable = true)\n",
      " |-- mac_requirements: string (nullable = true)\n",
      " |-- metacritic: struct (nullable = true)\n",
      " |    |-- score: long (nullable = true)\n",
      " |    |-- url: string (nullable = true)\n",
      " |-- movies: array (nullable = true)\n",
      " |    |-- element: struct (containsNull = true)\n",
      " |    |    |-- highlight: boolean (nullable = true)\n",
      " |    |    |-- id: long (nullable = true)\n",
      " |    |    |-- name: string (nullable = true)\n",
      " |    |    |-- thumbnail: string (nullable = true)\n",
      " |    |    |-- webm: struct (nullable = true)\n",
      " |    |    |    |-- 480: string (nullable = true)\n",
      " |    |    |    |-- dash: string (nullable = true)\n",
      " |    |    |    |-- max: string (nullable = true)\n",
      " |-- name: string (nullable = true)\n",
      " |-- package_groups: array (nullable = true)\n",
      " |    |-- element: struct (containsNull = true)\n",
      " |    |    |-- description: string (nullable = true)\n",
      " |    |    |-- display_type: string (nullable = true)\n",
      " |    |    |-- is_recurring_subscription: string (nullable = true)\n",
      " |    |    |-- name: string (nullable = true)\n",
      " |    |    |-- save_text: string (nullable = true)\n",
      " |    |    |-- selection_text: string (nullable = true)\n",
      " |    |    |-- subs: array (nullable = true)\n",
      " |    |    |    |-- element: struct (containsNull = true)\n",
      " |    |    |    |    |-- can_get_free_license: string (nullable = true)\n",
      " |    |    |    |    |-- is_free_license: boolean (nullable = true)\n",
      " |    |    |    |    |-- option_description: string (nullable = true)\n",
      " |    |    |    |    |-- option_text: string (nullable = true)\n",
      " |    |    |    |    |-- packageid: string (nullable = true)\n",
      " |    |    |    |    |-- percent_savings: long (nullable = true)\n",
      " |    |    |    |    |-- percent_savings_text: string (nullable = true)\n",
      " |    |    |    |    |-- price_in_cents_with_discount: long (nullable = true)\n",
      " |    |    |-- title: string (nullable = true)\n",
      " |-- packages: array (nullable = true)\n",
      " |    |-- element: string (containsNull = true)\n",
      " |-- pc_requirements: string (nullable = true)\n",
      " |-- platforms: struct (nullable = true)\n",
      " |    |-- linux: boolean (nullable = true)\n",
      " |    |-- mac: boolean (nullable = true)\n",
      " |    |-- windows: boolean (nullable = true)\n",
      " |-- price_overview: struct (nullable = true)\n",
      " |    |-- currency: string (nullable = true)\n",
      " |    |-- discount_percent: long (nullable = true)\n",
      " |    |-- final: long (nullable = true)\n",
      " |    |-- initial: long (nullable = true)\n",
      " |    |-- recurring_sub: long (nullable = true)\n",
      " |    |-- recurring_sub_desc: string (nullable = true)\n",
      " |-- publishers: array (nullable = true)\n",
      " |    |-- element: string (containsNull = true)\n",
      " |-- recommendations: struct (nullable = true)\n",
      " |    |-- total: long (nullable = true)\n",
      " |-- release_date: struct (nullable = true)\n",
      " |    |-- coming_soon: boolean (nullable = true)\n",
      " |    |-- date: string (nullable = true)\n",
      " |-- required_age: string (nullable = true)\n",
      " |-- reviews: string (nullable = true)\n",
      " |-- screenshots: array (nullable = true)\n",
      " |    |-- element: struct (containsNull = true)\n",
      " |    |    |-- id: long (nullable = true)\n",
      " |    |    |-- path_full: string (nullable = true)\n",
      " |    |    |-- path_thumbnail: string (nullable = true)\n",
      " |-- short_description: string (nullable = true)\n",
      " |-- steam_appid: long (nullable = true)\n",
      " |-- support_info: struct (nullable = true)\n",
      " |    |-- email: string (nullable = true)\n",
      " |    |-- url: string (nullable = true)\n",
      " |-- supported_languages: string (nullable = true)\n",
      " |-- type: string (nullable = true)\n",
      " |-- website: string (nullable = true)\n",
      "\n",
      "+---------------+--------------------+------------+---------------+--------------------+--------------------+------------------+-----+--------------------+----------+----+----------+-----------------------+--------+------------+--------------------+-------+------------+--------------------+--------------------+--------------------+------+--------------+--------------------+--------+--------------------+----------------+--------------------+----------+---------------+-------------------+------------+-------+--------------------+-----------------+-----------+--------------------+--------------------+----+-------+\n",
      "|_corrupt_record|      about_the_game|achievements|alternate_appid|          background|          categories|controller_support|demos|detailed_description|developers| dlc|drm_notice|ext_user_account_notice|fullgame|      genres|        header_image|is_free|legal_notice|  linux_requirements|    mac_requirements|          metacritic|movies|          name|      package_groups|packages|     pc_requirements|       platforms|      price_overview|publishers|recommendations|       release_date|required_age|reviews|         screenshots|short_description|steam_appid|        support_info| supported_languages|type|website|\n",
      "+---------------+--------------------+------------+---------------+--------------------+--------------------+------------------+-----+--------------------+----------+----+----------+-----------------------+--------+------------+--------------------+-------+------------+--------------------+--------------------+--------------------+------+--------------+--------------------+--------+--------------------+----------------+--------------------+----------+---------------+-------------------+------------+-------+--------------------+-----------------+-----------+--------------------+--------------------+----+-------+\n",
      "|           null|Play the world's ...|    [null,0]|           null|http://cdn.akamai...|[[Multi-player,1]...|              null| null|Play the world's ...|   [Valve]|null|      null|                   null|    null|[[Action,1]]|http://cdn.akamai...|  false|        null|{\"minimum\":\"Minim...|{\"minimum\":\"Minim...|[88,http://www.me...|  null|Counter-Strike|[[,0,false,defaul...|     [7]|{\"minimum\":\"\\r\\n\\...|[true,true,true]|[USD,0,999,999,nu...|   [Valve]|        [87960]|[false,Nov 1, 2000]|           0|   null|[[0,http://cdn.ak...|                 |         10|[,http://steamcom...|English, French, ...|game|   null|\n",
      "+---------------+--------------------+------------+---------------+--------------------+--------------------+------------------+-----+--------------------+----------+----+----------+-----------------------+--------+------------+--------------------+-------+------------+--------------------+--------------------+--------------------+------+--------------+--------------------+--------+--------------------+----------------+--------------------+----------+---------------+-------------------+------------+-------+--------------------+-----------------+-----------+--------------------+--------------------+----+-------+\n",
      "only showing top 1 row\n",
      "\n"
     ]
    }
   ],
   "source": [
    "df_game = hiveCtx.read.json(game_detail)\n",
    "df_game.printSchema()\n",
    "df_game.registerTempTable(\"temp_game_detail\")\n",
    "df_valid_game = hiveCtx.sql(\"SELECT * FROM temp_game_detail where _corrupt_record is null\")\n",
    "df_valid_game.registerTempTable(\"game_detail\")\n",
    "df_valid_game.show(1)"
   ]
  },
  {
   "cell_type": "markdown",
   "metadata": {},
   "source": [
    "Load user_owned_games from json file as well"
   ]
  },
  {
   "cell_type": "code",
   "execution_count": 23,
   "metadata": {
    "collapsed": false
   },
   "outputs": [
    {
     "name": "stdout",
     "output_type": "stream",
     "text": [
      "root\n",
      " |-- game_count: long (nullable = true)\n",
      " |-- games: array (nullable = true)\n",
      " |    |-- element: struct (containsNull = true)\n",
      " |    |    |-- appid: long (nullable = true)\n",
      " |    |    |-- playtime_2weeks: long (nullable = true)\n",
      " |    |    |-- playtime_forever: long (nullable = true)\n",
      " |-- steamid: string (nullable = true)\n",
      "\n",
      "+--------------------+--------+-----------+--------------------+\n",
      "|                name|    rank|steam_appid|        header_image|\n",
      "+--------------------+--------+-----------+--------------------+\n",
      "|Counter-Strike: G...|69648077|        730|http://cdn.akamai...|\n",
      "|         Garry's Mod|54063544|       4000|http://cdn.akamai...|\n",
      "|Counter-Strike: S...|17866760|        240|http://cdn.akamai...|\n",
      "|  Grand Theft Auto V|14605372|     271590|http://cdn.akamai...|\n",
      "|       Left 4 Dead 2|14252479|        550|http://cdn.akamai...|\n",
      "|            Warframe|13113788|     230410|http://cdn.akamai...|\n",
      "|            PAYDAY 2|12112242|     218620|http://cdn.akamai...|\n",
      "|The Elder Scrolls...|11718038|      72850|http://cdn.akamai...|\n",
      "|            Terraria|10835681|     105600|http://cdn.akamai...|\n",
      "|      Counter-Strike|10455387|         10|http://cdn.akamai...|\n",
      "+--------------------+--------+-----------+--------------------+\n",
      "\n"
     ]
    }
   ],
   "source": [
    "# df_user_owned_games = hiveCtx.read.json(sample_user_owned_games)\n",
    "df_user_owned_games = hiveCtx.read.json(full_user_owned_games)\n",
    "df_user_owned_games.printSchema()\n",
    "df_user_owned_games.registerTempTable(\"user_owned_games\")\n",
    "\n",
    "df_global_popular_games = \\\n",
    "hiveCtx.sql(\"SELECT b.game_id, SUM(b.playtime_forever) AS play_time FROM \\\n",
    "                (SELECT played_games['appid'] AS game_id, played_games['playtime_forever'] AS playtime_forever \\\n",
    "                FROM (SELECT EXPLODE(games) AS played_games FROM user_owned_games) a) b \\\n",
    "            GROUP BY game_id ORDER BY play_time DESC LIMIT 10\")\n",
    "df_global_popular_games.registerTempTable('popular_games')\n",
    "df_global_popular_games = hiveCtx.sql(\"SELECT b.name AS name, a.play_time AS rank, b.steam_appid, b.header_image FROM \\\n",
    "                                    popular_games a, game_detail b WHERE a.game_id = b.steam_appid ORDER BY rank DESC\")\n",
    "df_global_popular_games.show()"
   ]
  },
  {
   "cell_type": "markdown",
   "metadata": {},
   "source": [
    "We can also recommend games to users based on the popularity of games which their friends play. We may call it local popularity. First we load the friend_list table.\n",
    "\n",
    "For the sake of simplicity, we only calculate the recommendation results for one user."
   ]
  },
  {
   "cell_type": "code",
   "execution_count": 6,
   "metadata": {
    "collapsed": false
   },
   "outputs": [
    {
     "name": "stdout",
     "output_type": "stream",
     "text": [
      "root\n",
      " |-- friends: array (nullable = true)\n",
      " |    |-- element: struct (containsNull = true)\n",
      " |    |    |-- friend_since: long (nullable = true)\n",
      " |    |    |-- relationship: string (nullable = true)\n",
      " |    |    |-- steamid: string (nullable = true)\n",
      " |-- steamid: string (nullable = true)\n",
      "\n",
      "+--------------------+---------+\n",
      "|           game_name|play_time|\n",
      "+--------------------+---------+\n",
      "|       Borderlands 2|    52652|\n",
      "|       Killing Floor|    41458|\n",
      "|       Left 4 Dead 2|    33578|\n",
      "|      Spiral Knights|    29602|\n",
      "|      Clicker Heroes|    26640|\n",
      "|      Clicker Heroes|    26640|\n",
      "|    Cities in Motion|    24866|\n",
      "|Sid Meier's Civil...|    22163|\n",
      "|Sid Meier's Civil...|    22163|\n",
      "|              SMITE®|    21553|\n",
      "|              SMITE®|    21553|\n",
      "|The Witcher® 3: W...|    20292|\n",
      "+--------------------+---------+\n",
      "\n"
     ]
    }
   ],
   "source": [
    "sample_user = '76561197972495328'\n",
    "\n",
    "# df_user_friend_list = hiveCtx.read.json(sample_user_friend_list)\n",
    "df_user_friend_list = hiveCtx.read.json(full_user_friend_list)\n",
    "df_user_friend_list.printSchema()\n",
    "df_user_friend_list.registerTempTable('friend_list')\n",
    "\n",
    "hiveCtx.sql(\"SELECT friends['steamid'] AS steamid FROM \\\n",
    "            (SELECT EXPLODE(friends) AS friends FROM friend_list WHERE steamid = %s) a\"%sample_user)\\\n",
    ".registerTempTable('user_friend_list')\n",
    "\n",
    "hiveCtx.sql(\"SELECT game_id, SUM(playtime_forever) AS play_time FROM \\\n",
    "            (SELECT games['appid'] AS game_id, games['playtime_forever'] AS playtime_forever FROM \\\n",
    "            (SELECT a.steamid, EXPLODE(b.games) AS games \\\n",
    "            FROM user_friend_list a, user_owned_games b WHERE a.steamid = b.steamid) c) d \\\n",
    "            GROUP BY game_id ORDER BY play_time DESC LIMIT 10\")\\\n",
    ".registerTempTable('temp_local_popular_games')\n",
    "\n",
    "df_global_popular_games = hiveCtx.sql(\"SELECT b.name AS game_name, a.play_time FROM \\\n",
    "                                        temp_local_popular_games a, game_detail b WHERE a.game_id = b.steam_appid\")\n",
    "df_global_popular_games.show()"
   ]
  },
  {
   "cell_type": "markdown",
   "metadata": {},
   "source": [
    "## Collaborative Filtering Recommendation System\n",
    "\n",
    "Filter users without any recently played games"
   ]
  },
  {
   "cell_type": "code",
   "execution_count": 7,
   "metadata": {
    "collapsed": false
   },
   "outputs": [
    {
     "name": "stdout",
     "output_type": "stream",
     "text": [
      "root\n",
      " |-- games: array (nullable = true)\n",
      " |    |-- element: struct (containsNull = true)\n",
      " |    |    |-- appid: long (nullable = true)\n",
      " |    |    |-- img_icon_url: string (nullable = true)\n",
      " |    |    |-- img_logo_url: string (nullable = true)\n",
      " |    |    |-- name: string (nullable = true)\n",
      " |    |    |-- playtime_2weeks: long (nullable = true)\n",
      " |    |    |-- playtime_forever: long (nullable = true)\n",
      " |-- steamid: string (nullable = true)\n",
      " |-- total_count: long (nullable = true)\n",
      "\n",
      "+--------------------+-----------------+-----------+\n",
      "|               games|          steamid|total_count|\n",
      "+--------------------+-----------------+-----------+\n",
      "|[[578080,93d896e7...|76561198097278802|          2|\n",
      "+--------------------+-----------------+-----------+\n",
      "only showing top 1 row\n",
      "\n"
     ]
    }
   ],
   "source": [
    "# df_user_recent_games = hiveCtx.read.json(sample_user_recent_games)\n",
    "df_user_recent_games = hiveCtx.read.json(full_user_recent_games)\n",
    "df_user_recent_games.printSchema()\n",
    "df_user_recent_games.registerTempTable(\"user_recent_games\")\n",
    "df_valid_user_recent_games = hiveCtx.sql(\"SELECT * FROM user_recent_games where total_count != 0\")\n",
    "df_valid_user_recent_games.show(1)"
   ]
  },
  {
   "cell_type": "markdown",
   "metadata": {},
   "source": [
    "Convert the Steam ID to index to avoid overflow in the recommendation algorithm. This is achieved by joining tables."
   ]
  },
  {
   "cell_type": "code",
   "execution_count": 8,
   "metadata": {
    "collapsed": false
   },
   "outputs": [
    {
     "name": "stdout",
     "output_type": "stream",
     "text": [
      "+--------+--------------------+\n",
      "|user_idx|               games|\n",
      "+--------+--------------------+\n",
      "|    1459|[[578080,93d896e7...|\n",
      "|    1455|[[578080,93d896e7...|\n",
      "|       0|[[39210,30461ee9c...|\n",
      "|       1|[[501300,f71d2d0c...|\n",
      "|    1461|[[377160,779c4356...|\n",
      "|    1457|[[377160,779c4356...|\n",
      "|    1462|[[570,0bbb630d632...|\n",
      "|    1458|[[570,0bbb630d632...|\n",
      "|       2|[[578080,93d896e7...|\n",
      "|    1463|[[252950,9ad6dd3d...|\n",
      "+--------+--------------------+\n",
      "only showing top 10 rows\n",
      "\n"
     ]
    }
   ],
   "source": [
    "# df_user_idx = hiveCtx.read.json(sample_user_idx)\n",
    "df_user_idx = hiveCtx.read.json(full_user_idx)\n",
    "# df_user_idx.printSchema()\n",
    "df_user_idx.registerTempTable('user_idx')\n",
    "df_valid_user_recent_games = hiveCtx.sql(\"SELECT b.user_idx, a.games FROM user_recent_games a \\\n",
    "                                            JOIN user_idx b ON b.user_id = a.steamid WHERE a.total_count != 0\")\n",
    "# df_valid_user_recent_games.printSchema()\n",
    "df_valid_user_recent_games.show(10)"
   ]
  },
  {
   "cell_type": "code",
   "execution_count": null,
   "metadata": {
    "collapsed": false
   },
   "outputs": [],
   "source": [
    "training_rdd = df_valid_user_recent_games.rdd.flatMapValues(lambda x : x) \\\n",
    "                .map(lambda (x, y) : (x, y.appid, y.playtime_forever)) \\\n",
    "                .filter(lambda (x, y, z) : z > 0)\n",
    "training_rdd.collect()"
   ]
  },
  {
   "cell_type": "markdown",
   "metadata": {},
   "source": [
    "Using [Alternative Least Square](https://spark.apache.org/docs/latest/mllib-collaborative-filtering.html#collaborative-filtering) algorithm to perform the collaborative filtering. API document can be found [here](https://spark.apache.org/docs/latest/api/python/pyspark.mllib.html#pyspark.mllib.recommendation.ALS)."
   ]
  },
  {
   "cell_type": "code",
   "execution_count": 10,
   "metadata": {
    "collapsed": true
   },
   "outputs": [],
   "source": [
    "als = ALS.trainImplicit(training_rdd, 10)"
   ]
  },
  {
   "cell_type": "code",
   "execution_count": 11,
   "metadata": {
    "collapsed": false
   },
   "outputs": [
    {
     "name": "stdout",
     "output_type": "stream",
     "text": [
      "[Rating(user=0, product=72850, rating=1.080533744968419), Rating(user=0, product=440, rating=0.9969255430731465), Rating(user=0, product=570, rating=0.9809604429602001), Rating(user=0, product=39210, rating=0.9202178437694855), Rating(user=0, product=4000, rating=0.9199807235230111), Rating(user=0, product=252950, rating=0.8478899813371471), Rating(user=0, product=1840, rating=0.8338965062848274), Rating(user=0, product=211820, rating=0.7592396294615982), Rating(user=0, product=431960, rating=0.7048469966050396), Rating(user=0, product=238960, rating=0.6679573871110611)]\n"
     ]
    }
   ],
   "source": [
    "result_rating = als.recommendProducts(0,10)\n",
    "print result_rating"
   ]
  },
  {
   "cell_type": "markdown",
   "metadata": {},
   "source": [
    "Write out the intermediate recommendation results to json files"
   ]
  },
  {
   "cell_type": "code",
   "execution_count": 12,
   "metadata": {
    "collapsed": true
   },
   "outputs": [],
   "source": [
    "# with open(sample_recommended, 'w') as output_file:\n",
    "with open(full_recommended, 'w') as output_file:\n",
    "    for user_idx in range(0, df_user_idx.count()):\n",
    "        try:\n",
    "            lst_recommended = [i.product for i in als.recommendProducts(user_idx, 10)]\n",
    "            rank = 1\n",
    "            for app_id in lst_recommended:\n",
    "                dict_recommended = {'user_idx': user_idx, 'game_id': app_id, 'rank': rank}\n",
    "                json.dump(dict_recommended, output_file)\n",
    "                output_file.write('\\n')\n",
    "                rank += 1\n",
    "        # some user index may not in the recommendation result since it's been filtered out\n",
    "        except:\n",
    "            pass"
   ]
  },
  {
   "cell_type": "markdown",
   "metadata": {},
   "source": [
    "Join the Steam user ID table and game_detail table to form the final results"
   ]
  },
  {
   "cell_type": "code",
   "execution_count": 17,
   "metadata": {
    "collapsed": false
   },
   "outputs": [
    {
     "name": "stdout",
     "output_type": "stream",
     "text": [
      "+-----------------+----+--------------------+--------------------+-----------+\n",
      "|          user_id|rank|                name|        header_image|steam_appid|\n",
      "+-----------------+----+--------------------+--------------------+-----------+\n",
      "|76561197960268841|   1|     Team Fortress 2|http://cdn.akamai...|        440|\n",
      "|76561197960268841|   2|         Garry's Mod|http://cdn.akamai...|       4000|\n",
      "|76561197960268841|   3|            Terraria|http://cdn.akamai...|     105600|\n",
      "|76561197960268841|   4|The Elder Scrolls...|http://cdn.akamai...|      72850|\n",
      "|76561197960268841|   5|              Arma 3|http://cdn.akamai...|     107410|\n",
      "|76561197960268841|   6|      Clicker Heroes|http://cdn.akamai...|     363970|\n",
      "|76561197960268841|   6|      Clicker Heroes|http://cdn.akamai...|     363970|\n",
      "|76561197960268841|   7|                Rust|http://cdn.akamai...|     252490|\n",
      "|76561197960268841|   8|           Starbound|http://cdn.akamai...|     211820|\n",
      "|76561197960268841|   9|      Rocket League®|http://cdn.akamai...|     252950|\n",
      "|76561197960268841|  10|    Source Filmmaker|http://cdn.akamai...|       1840|\n",
      "|76561197960269425|   1|              Dota 2|http://cdn.akamai...|        570|\n",
      "|76561197960269425|   2|      Counter-Strike|http://cdn.akamai...|         10|\n",
      "|76561197960269425|   3|Counter-Strike: G...|http://cdn.akamai...|        730|\n",
      "|76561197960269425|   4|PLAYERUNKNOWN'S B...|http://cdn.akamai...|     578080|\n",
      "|76561197960269425|   5|      Rocket League®|http://cdn.akamai...|     252950|\n",
      "|76561197960269425|   6|The Elder Scrolls...|http://cdn.akamai...|      72850|\n",
      "|76561197960269425|   7|       Left 4 Dead 2|http://cdn.akamai...|        550|\n",
      "|76561197960269425|   8|       7 Days to Die|http://cdn.akamai...|     251570|\n",
      "|76561197960269425|   9|       Path of Exile|http://cdn.akamai...|     238960|\n",
      "+-----------------+----+--------------------+--------------------+-----------+\n",
      "only showing top 20 rows\n",
      "\n"
     ]
    }
   ],
   "source": [
    "# df_recommend_result = hiveCtx.read.json(sample_recommended)\n",
    "df_recommend_result = hiveCtx.read.json(full_recommended)\n",
    "# df_recommend_result.show()\n",
    "df_recommend_result.registerTempTable('recommend_result')\n",
    "df_final_recommend_result = hiveCtx.sql(\"SELECT b.user_id, a.rank, c.name, c.header_image, c.steam_appid \\\n",
    "                                        FROM recommend_result a, user_idx b, game_detail c \\\n",
    "                                        WHERE a.user_idx = b.user_idx AND a.game_id = c.steam_appid \\\n",
    "                                        ORDER BY b.user_id, a.rank\")\n",
    "df_final_recommend_result.show()"
   ]
  },
  {
   "cell_type": "code",
   "execution_count": 18,
   "metadata": {
    "collapsed": false
   },
   "outputs": [],
   "source": [
    "# store the final results\n",
    "# df_final_recommend_result.write.save(sample_final_recommended, format=\"json\")\n",
    "df_final_recommend_result.write.save(full_final_recommended, format=\"json\")"
   ]
  },
  {
   "cell_type": "markdown",
   "metadata": {},
   "source": [
    "## Store the Recommendation Results to AWS RDS\n",
    "\n",
    "Download MySQL JDBC [connector](https://dev.mysql.com/downloads/connector/j/) class first, and copy it to $SPARK_HOME/jars, e.g., /Library/spark-2.1.1-bin-hadoop2.7/jars\n",
    "\n",
    "A good reference for connecting to AWS MySQL DB through JDBC can be found [here](https://medium.com/modernnerd-code/connecting-to-mysql-db-on-aws-ec2-with-jdbc-for-java-91dba3003abb) and [here](https://docs.databricks.com/spark/latest/data-sources/sql-databases.html#writing-data-to-jdbc).\n",
    "\n",
    "First we upload the popularity-based recommendation results to database. We specify the database name to be \"test1\", and the table name to be \"global_recommend\"."
   ]
  },
  {
   "cell_type": "code",
   "execution_count": 24,
   "metadata": {
    "collapsed": true
   },
   "outputs": [],
   "source": [
    "# define jdbc properties\n",
    "url = 'jdbc:mysql://test1.czrwqe1jiypg.us-west-2.rds.amazonaws.com:3306'\n",
    "mode = 'overwrite'\n",
    "properties = {\n",
    "    \"user\": \"comestime\",\n",
    "    \"password\": \"xxxxxxxxxxx\",\n",
    "    \"driver\": 'com.mysql.jdbc.Driver'\n",
    "}"
   ]
  },
  {
   "cell_type": "code",
   "execution_count": 25,
   "metadata": {
    "collapsed": true
   },
   "outputs": [],
   "source": [
    "df_global_popular_games.write.jdbc(url=url, table=\"test1.global_recommend\", mode=mode, properties=properties)"
   ]
  },
  {
   "cell_type": "markdown",
   "metadata": {},
   "source": [
    "Read the results back to verify the data has been uploaded successfully."
   ]
  },
  {
   "cell_type": "code",
   "execution_count": 26,
   "metadata": {
    "collapsed": false
   },
   "outputs": [
    {
     "name": "stdout",
     "output_type": "stream",
     "text": [
      "+--------------------+--------+-----------+--------------------+\n",
      "|                name|    rank|steam_appid|        header_image|\n",
      "+--------------------+--------+-----------+--------------------+\n",
      "|Counter-Strike: G...|69648077|        730|http://cdn.akamai...|\n",
      "|Counter-Strike: S...|17866760|        240|http://cdn.akamai...|\n",
      "|         Garry's Mod|54063544|       4000|http://cdn.akamai...|\n",
      "|  Grand Theft Auto V|14605372|     271590|http://cdn.akamai...|\n",
      "|       Left 4 Dead 2|14252479|        550|http://cdn.akamai...|\n",
      "|            Warframe|13113788|     230410|http://cdn.akamai...|\n",
      "|            PAYDAY 2|12112242|     218620|http://cdn.akamai...|\n",
      "|The Elder Scrolls...|11718038|      72850|http://cdn.akamai...|\n",
      "|            Terraria|10835681|     105600|http://cdn.akamai...|\n",
      "|      Counter-Strike|10455387|         10|http://cdn.akamai...|\n",
      "+--------------------+--------+-----------+--------------------+\n",
      "\n"
     ]
    }
   ],
   "source": [
    "df_read_back = sc.read.jdbc(url=url, table=\"test1.global_recommend\", properties=properties)\n",
    "df_read_back.show()"
   ]
  },
  {
   "cell_type": "markdown",
   "metadata": {},
   "source": [
    "Next we upload the collaborative filtering recommendation results to database. The database name is \"test1\" and the table name is \"final_recommend\""
   ]
  },
  {
   "cell_type": "code",
   "execution_count": 19,
   "metadata": {
    "collapsed": false
   },
   "outputs": [],
   "source": [
    "\n",
    "df_final_recommend_result.write.jdbc(url=url, table=\"test1.final_recommend\", mode=mode, properties=properties)"
   ]
  },
  {
   "cell_type": "markdown",
   "metadata": {},
   "source": [
    "Read the dataframe back from AWS, to check if the data is stored successfully"
   ]
  },
  {
   "cell_type": "code",
   "execution_count": 20,
   "metadata": {
    "collapsed": false
   },
   "outputs": [
    {
     "name": "stdout",
     "output_type": "stream",
     "text": [
      "+-----------------+----+--------------------+--------------------+-----------+\n",
      "|          user_id|rank|                name|        header_image|steam_appid|\n",
      "+-----------------+----+--------------------+--------------------+-----------+\n",
      "|76561197960268841|   1|     Team Fortress 2|http://cdn.akamai...|        440|\n",
      "|76561197961017729|   3|            PAYDAY 2|http://cdn.akamai...|     218620|\n",
      "|76561197960268841|   2|         Garry's Mod|http://cdn.akamai...|       4000|\n",
      "|76561197961017729|   4|         War Thunder|http://cdn.akamai...|     236390|\n",
      "|76561197960558092|   3|       Borderlands 2|http://cdn.akamai...|      49520|\n",
      "|76561197960354636|   5|              Dota 2|http://cdn.akamai...|        570|\n",
      "|76561197960268841|   3|            Terraria|http://cdn.akamai...|     105600|\n",
      "|76561197960558092|   4|  Grand Theft Auto V|http://cdn.akamai...|     271590|\n",
      "|76561197961017729|   5|            NBA 2K17|http://cdn.akamai...|     385760|\n",
      "|76561197960354636|   6|         Garry's Mod|http://cdn.akamai...|       4000|\n",
      "|76561197960268841|   4|The Elder Scrolls...|http://cdn.akamai...|      72850|\n",
      "|76561197961017729|   5|            NBA 2K17|http://cdn.akamai...|     385760|\n",
      "|76561197960558092|   5|Counter-Strike: G...|http://cdn.akamai...|        730|\n",
      "|76561197960354636|   7|      Counter-Strike|http://cdn.akamai...|         10|\n",
      "|76561197960268841|   5|              Arma 3|http://cdn.akamai...|     107410|\n",
      "|76561197960558092|   6|              Dota 2|http://cdn.akamai...|        570|\n",
      "|76561197961017729|   6|         Left 4 Dead|http://cdn.akamai...|        500|\n",
      "|76561197960354636|   8|       Borderlands 2|http://cdn.akamai...|      49520|\n",
      "|76561197960268841|   6|      Clicker Heroes|http://cdn.akamai...|     363970|\n",
      "|76561197961017729|   8|ARK: Survival Evo...|http://cdn.akamai...|     346110|\n",
      "+-----------------+----+--------------------+--------------------+-----------+\n",
      "only showing top 20 rows\n",
      "\n"
     ]
    }
   ],
   "source": [
    "df_read_back = sc.read.jdbc(url=url, table=\"test1.final_recommend\", properties=properties)\n",
    "df_read_back.show()"
   ]
  }
 ],
 "metadata": {
  "kernelspec": {
   "display_name": "Python 2",
   "language": "python",
   "name": "python2"
  },
  "language_info": {
   "codemirror_mode": {
    "name": "ipython",
    "version": 2
   },
   "file_extension": ".py",
   "mimetype": "text/x-python",
   "name": "python",
   "nbconvert_exporter": "python",
   "pygments_lexer": "ipython2",
   "version": "2.7.11"
  }
 },
 "nbformat": 4,
 "nbformat_minor": 1
}
