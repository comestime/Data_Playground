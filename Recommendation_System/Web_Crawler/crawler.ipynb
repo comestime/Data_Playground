{
 "cells": [
  {
   "cell_type": "markdown",
   "metadata": {},
   "source": [
    "# Recommendation System Crawler"
   ]
  },
  {
   "cell_type": "code",
   "execution_count": 1,
   "metadata": {
    "collapsed": true
   },
   "outputs": [],
   "source": [
    "# for web crawler\n",
    "import requests\n",
    "import json\n",
    "\n",
    "# used to parse HTML\n",
    "from bs4 import BeautifulSoup as bs\n",
    "from contextlib import closing\n",
    "import urllib\n",
    "import re\n",
    "\n",
    "# for multithreading support\n",
    "from threading import Thread\n",
    "from collections import defaultdict\n",
    "from Queue import Queue\n",
    "\n",
    "# Steam API key\n",
    "key = 'xxxxxxxxxxxxxxxxxxxxxxxxxx'"
   ]
  },
  {
   "cell_type": "markdown",
   "metadata": {},
   "source": [
    "## Get Member ID\n",
    "\n",
    "Get all online member ID first, since SteamAPI will only accept member ID for query"
   ]
  },
  {
   "cell_type": "code",
   "execution_count": 2,
   "metadata": {
    "collapsed": true
   },
   "outputs": [],
   "source": [
    "# get user IDs by searching user profile\n",
    "# version 1: might missing some IDs since beautiful soup cannot parse PHP script\n",
    "\n",
    "def get_user_id(user_profile, user_ids):\n",
    "    url = user_profile\n",
    "\n",
    "    resp = requests.get(url)\n",
    "\n",
    "    soup = bs(resp.text, 'html.parser')\n",
    "\n",
    "    steamid_blocks = soup.find_all(\"div\", class_ = \"showcase_slot item_showcase_item \")\n",
    "\n",
    "    for steamid_block in steamid_blocks:\n",
    "        try:\n",
    "            user_id_field = steamid_block['data-economy-item'].encode(\"ascii\")\n",
    "            user_id = re.search(\"\\d+\\/\\d+\\/\\d+\\/(\\d+)\", user_id_field).group(1)\n",
    "            print user_id + ' ' + user_profile\n",
    "            user_ids.append(user_id)\n",
    "            break\n",
    "        except:\n",
    "            continue\n",
    "\n",
    "            from contextlib import closing"
   ]
  },
  {
   "cell_type": "code",
   "execution_count": 3,
   "metadata": {
    "collapsed": true
   },
   "outputs": [],
   "source": [
    "# version 2: stemID can always be found in PHP script; use urllib to parse response\n",
    "\n",
    "def get_user_id(user_profile, user_ids):\n",
    "    url = user_profile\n",
    "\n",
    "    with closing(urllib.urlopen(url)) as page:\n",
    "        for line in page:\n",
    "            if \"steamid\" in line:\n",
    "                try: \n",
    "                    user_id = re.search(\"\\\"steamid\\\":\\\"(\\d+)\\\"\", line).group(1)\n",
    "                    print user_id + ' ' + user_profile\n",
    "                    if user_id != None:\n",
    "                        user_ids.append(user_id)\n",
    "                        break\n",
    "                except:\n",
    "                    continue"
   ]
  },
  {
   "cell_type": "code",
   "execution_count": 4,
   "metadata": {
    "collapsed": true
   },
   "outputs": [],
   "source": [
    "# traverse the member list to find out online/in-game users\n",
    "\n",
    "def get_online_users(member_list_no, user_ids):\n",
    "    url = 'https://steamcommunity.com/games/steam/members?p=' + str(member_list_no)\n",
    "\n",
    "    resp = requests.get(url)\n",
    "\n",
    "    soup = bs(resp.text, 'html.parser')\n",
    "    # print(soup.prettify())\n",
    "\n",
    "    # search profile of users who are online/in-game\n",
    "    all_users = soup.find_all(\"div\", \\\n",
    "                              onclick = re.compile(\"top\\.location\\.href='https:\\/\\/steamcommunity\\.com\\/id\\/(\\w+)'\"), \\\n",
    "                              class_ = re.compile(\"online|in-game\"))\n",
    "\n",
    "    # get user names\n",
    "    for user in all_users:\n",
    "        user_profile = user.div.div.div.a['href'].encode(\"ascii\")\n",
    "        # print user_profile\n",
    "        get_user_id(user_profile, user_ids)\n",
    "        # user_name = re.search('https:\\/\\/steamcommunity\\.com\\/id\\/(\\w+)', user_profile).group(1)"
   ]
  },
  {
   "cell_type": "code",
   "execution_count": 5,
   "metadata": {
    "collapsed": false
   },
   "outputs": [
    {
     "name": "stdout",
     "output_type": "stream",
     "text": [
      "Member List 1\n",
      "76561197972495328 https://steamcommunity.com/id/FireSlash\n",
      "76561197960434622 https://steamcommunity.com/id/afarnsworth\n",
      "76561197968459473 https://steamcommunity.com/id/drunkenf00l\n",
      "76561197970323416 https://steamcommunity.com/id/tomqbui\n",
      "76561197963135603 https://steamcommunity.com/id/jigoku\n",
      "76561197960794555 https://steamcommunity.com/id/killahinstinct_\n",
      "76561198053398526 https://steamcommunity.com/id/0x6D6178\n",
      "76561197971155734 https://steamcommunity.com/id/rotNdude\n",
      "76561197978607315 https://steamcommunity.com/id/Zefar\n",
      "76561197995162898 https://steamcommunity.com/id/Electrosta\n",
      "76561197967617980 https://steamcommunity.com/id/metal_smith\n",
      "76561198005531434 https://steamcommunity.com/id/yojka\n",
      "76561198021504253 https://steamcommunity.com/id/grodiusmouft\n",
      "76561198118064479 https://steamcommunity.com/id/citi3en\n",
      "76561198039785193 https://steamcommunity.com/id/soraefir\n",
      "Member List 2\n",
      "76561198039785193 https://steamcommunity.com/id/soraefir\n",
      "76561198047364412 https://steamcommunity.com/id/TopRaqRU\n",
      "76561198058298042 https://steamcommunity.com/id/N3_tort\n",
      "76561198112258962 https://steamcommunity.com/id/123456sorrynigga\n",
      "76561198114889071 https://steamcommunity.com/id/Eatingsocks\n",
      "76561198080619474 https://steamcommunity.com/id/thatonefemboy\n",
      "76561198047632345 https://steamcommunity.com/id/Dustrom\n",
      "76561198002555892 https://steamcommunity.com/id/SgtFopper\n",
      "76561198031984149 https://steamcommunity.com/id/pinotgridjio\n",
      "76561198096487177 https://steamcommunity.com/id/GhoSTCoreJZ2005\n",
      "76561198097875873 https://steamcommunity.com/id/SirNake\n",
      "76561198109273478 https://steamcommunity.com/id/143083795\n",
      "76561198052157848 https://steamcommunity.com/id/PDiddy_1PARA\n",
      "76561198131070201 https://steamcommunity.com/id/netkraco\n",
      "76561198097608607 https://steamcommunity.com/id/Alexey_Goldsmith\n",
      "76561198020057073 https://steamcommunity.com/id/cristiluvraluk\n",
      "76561198128809887 https://steamcommunity.com/id/korsentinel\n",
      "76561198110878609 https://steamcommunity.com/id/dd_dimension\n",
      "76561198065531232 https://steamcommunity.com/id/WhyDidYouClickThat\n",
      "76561197982648403 https://steamcommunity.com/id/RAGEcrow\n",
      "76561198083882871 https://steamcommunity.com/id/DemonicWolvz\n",
      "76561197961719031 https://steamcommunity.com/id/12335899665\n",
      "76561198107484553 https://steamcommunity.com/id/Diegope32\n",
      "76561198081686604 https://steamcommunity.com/id/491196573\n",
      "76561197995073310 https://steamcommunity.com/id/Sydra\n",
      "76561198109029994 https://steamcommunity.com/id/s3maj\n",
      "76561198091273643 https://steamcommunity.com/id/KK2224\n",
      "76561198085856345 https://steamcommunity.com/id/you_are_a_idiot_ha_ha_ha\n",
      "76561198031306425 https://steamcommunity.com/id/bbagwang\n",
      "76561198020644353 https://steamcommunity.com/id/EmoRin\n",
      "76561198046307715 https://steamcommunity.com/id/PowerSlave6\n",
      "76561198045959858 https://steamcommunity.com/id/prosperos\n",
      "76561198090232646 https://steamcommunity.com/id/scanetwork\n",
      "76561198062133666 https://steamcommunity.com/id/pinkball\n",
      "76561198045430910 https://steamcommunity.com/id/KillerThriller\n",
      "76561198123354030 https://steamcommunity.com/id/RakelIsTheBestGirlfriendEver\n",
      "Member List 3\n",
      "76561198101161901 https://steamcommunity.com/id/PurinSprinkleBits\n",
      "76561198049741238 https://steamcommunity.com/id/0great0\n",
      "76561197972498420 https://steamcommunity.com/id/brooke_bond\n",
      "76561198037094735 https://steamcommunity.com/id/WhatALewdPerson\n",
      "76561198012835315 https://steamcommunity.com/id/Spaws69\n",
      "76561198078975645 https://steamcommunity.com/id/012345678990011\n",
      "76561198026221141 https://steamcommunity.com/id/A_dJ\n",
      "76561197982937032 https://steamcommunity.com/id/ActionOfLost\n",
      "76561198087066156 https://steamcommunity.com/id/adi_a12\n",
      "76561198036164220 https://steamcommunity.com/id/ady5on\n",
      "76561198082264461 https://steamcommunity.com/id/thetamu\n",
      "76561197989834448 https://steamcommunity.com/id/AirblastEnema1\n",
      "76561198070559478 https://steamcommunity.com/id/airconstructor\n",
      "76561198043642908 https://steamcommunity.com/id/alanaba\n",
      "76561198043605567 https://steamcommunity.com/id/alisan786\n",
      "76561198013949200 https://steamcommunity.com/id/AlmightysHomePage\n",
      "76561198018406308 https://steamcommunity.com/id/aloneoz\n",
      "76561198013788189 https://steamcommunity.com/id/andros92\n",
      "76561198025231739 https://steamcommunity.com/id/zerker15\n",
      "76561198064969517 https://steamcommunity.com/id/Ank501\n",
      "76561198043441610 https://steamcommunity.com/id/anyhoo\n",
      "76561198056011386 https://steamcommunity.com/id/AnzuAneko\n",
      "76561198008213437 https://steamcommunity.com/id/Arekan\n",
      "76561198021602212 https://steamcommunity.com/id/aRk0\n",
      "76561198031492529 https://steamcommunity.com/id/ArkahnX\n",
      "76561198000447956 https://steamcommunity.com/id/ArkasIcewind\n",
      "76561198132631662 https://steamcommunity.com/id/Emirates2006\n",
      "76561198041959884 https://steamcommunity.com/id/ArztLecker\n",
      "76561198093933113 https://steamcommunity.com/id/Ashpex\n",
      "76561198012893684 https://steamcommunity.com/id/AtomicBelly\n",
      "76561197977016810 https://steamcommunity.com/id/Weegee_Time_Is_Awesome\n",
      "76561198074749690 https://steamcommunity.com/id/Azazelk0\n",
      "76561198072293711 https://steamcommunity.com/id/fixeri\n",
      "76561198046680021 https://steamcommunity.com/id/TheBlueberryPoptart\n",
      "76561198048662593 https://steamcommunity.com/id/baazingaspockk\n",
      "Member List 4\n",
      "76561198019863257 https://steamcommunity.com/id/moreofaghost\n",
      "76561197983888856 https://steamcommunity.com/id/crywolf1021\n",
      "76561198065853072 https://steamcommunity.com/id/Banjaro\n",
      "76561198044895040 https://steamcommunity.com/id/Balthazar645\n",
      "76561197960330421 https://steamcommunity.com/id/barutan77\n",
      "76561198050167394 https://steamcommunity.com/id/negronegro123\n",
      "76561197961418200 https://steamcommunity.com/id/betteroffdead\n",
      "76561198129355065 https://steamcommunity.com/id/byutzza\n",
      "76561198050005810 https://steamcommunity.com/id/chumanuma\n",
      "76561198179175101 https://steamcommunity.com/id/biohazza\n",
      "76561197993252663 https://steamcommunity.com/id/jefflauffman\n",
      "76561198046884177 https://steamcommunity.com/id/b1ghack\n",
      "76561198132598896 https://steamcommunity.com/id/BlackWidowe616\n",
      "76561198035455277 https://steamcommunity.com/id/Black1Dog\n",
      "76561198021543753 https://steamcommunity.com/id/GameaholicExtraordinaire\n",
      "76561198084318603 https://steamcommunity.com/id/BloodEven\n",
      "76561198062999015 https://steamcommunity.com/id/iseeyoufoundthisURL\n",
      "76561198169942725 https://steamcommunity.com/id/imafatnigger\n",
      "76561198087230800 https://steamcommunity.com/id/purplerex\n",
      "76561198053286156 https://steamcommunity.com/id/Brian_Farnet\n",
      "76561198033161998 https://steamcommunity.com/id/brillphill\n",
      "76561198001796266 https://steamcommunity.com/id/banassaultclipzforthechillun\n",
      "76561198050624526 https://steamcommunity.com/id/BuzzyBoo\n",
      "76561198080687223 https://steamcommunity.com/id/BYDRAFON\n",
      "76561198082310862 https://steamcommunity.com/id/bylegend1700\n",
      "76561197961017729 https://steamcommunity.com/id/byteframe\n",
      "76561198016825144 https://steamcommunity.com/id/calaud\n",
      "76561198004779412 https://steamcommunity.com/id/miaccountURL\n",
      "76561198069740242 https://steamcommunity.com/id/AZET54\n",
      "76561198132497544 https://steamcommunity.com/id/CaptainAmericae616\n",
      "76561198000769049 https://steamcommunity.com/id/Carkend\n",
      "76561198081853024 https://steamcommunity.com/id/Cats_\n",
      "76561198050149679 https://steamcommunity.com/id/maceman0091\n",
      "76561198056304573 https://steamcommunity.com/id/cetarium\n",
      "76561198132653520 https://steamcommunity.com/id/StamfordBridge\n",
      "76561197974918737 https://steamcommunity.com/id/Chrononid\n",
      "Member List 5\n",
      "76561197974918737 https://steamcommunity.com/id/Chrononid\n",
      "76561198129887240 https://steamcommunity.com/id/owllow\n",
      "76561198005775516 https://steamcommunity.com/id/Leandrae\n",
      "76561198030932341 https://steamcommunity.com/id/coloster\n",
      "76561198073878286 https://steamcommunity.com/id/coortix\n",
      "76561198047958635 https://steamcommunity.com/id/EctoLorean\n",
      "76561197983196289 https://steamcommunity.com/id/realcrap\n",
      "76561198105688076 https://steamcommunity.com/id/530252309532532532532\n",
      "76561198046380152 https://steamcommunity.com/id/cpguy5089\n",
      "76561197970921853 https://steamcommunity.com/id/creamy\n",
      "76561198080249925 https://steamcommunity.com/id/XMPPwocky\n",
      "76561198020878416 https://steamcommunity.com/id/124324534253\n",
      "76561198049325556 https://steamcommunity.com/id/danct12cp\n",
      "76561198028160228 https://steamcommunity.com/id/DaniiAfk\n",
      "76561198071380830 https://steamcommunity.com/id/darkfusionhd\n",
      "76561197975183480 https://steamcommunity.com/id/Darkpry\n",
      "76561198064047677 https://steamcommunity.com/id/Dark_man5\n",
      "76561198083400784 https://steamcommunity.com/id/fffmike\n",
      "76561198042491999 https://steamcommunity.com/id/DarthKanade\n",
      "76561197981532133 https://steamcommunity.com/id/dazkat21\n",
      "76561198045655521 https://steamcommunity.com/id/deadlycreature7\n",
      "76561198132567462 https://steamcommunity.com/id/Deadpoole616\n",
      "76561198177050898 https://steamcommunity.com/id/BOGDDYx\n",
      "76561197960668572 https://steamcommunity.com/id/deamosseraph\n",
      "76561198141754621 https://steamcommunity.com/id/demifly\n",
      "76561198051618737 https://steamcommunity.com/id/DemonDeLishy\n",
      "76561198050887160 https://steamcommunity.com/id/derbyx\n",
      "76561198039643915 https://steamcommunity.com/id/maxmadyy\n",
      "76561198115252639 https://steamcommunity.com/id/De_Sent\n",
      "76561198045232092 https://steamcommunity.com/id/faqunigger\n",
      "76561198034001396 https://steamcommunity.com/id/Dimanzer\n",
      "76561198073355162 https://steamcommunity.com/id/gravesend\n",
      "76561198034177539 https://steamcommunity.com/id/Doc1\n",
      "76561198054548882 https://steamcommunity.com/id/CallMeDoc\n",
      "76561198070871782 https://steamcommunity.com/id/Dodana\n",
      "76561198035136145 https://steamcommunity.com/id/wannayiff\n",
      "76561197974783082 https://steamcommunity.com/id/Yehudim_Anachnu\n",
      "76561198052306581 https://steamcommunity.com/id/DiqPhuk\n",
      "Total online users found:\n",
      "160\n"
     ]
    }
   ],
   "source": [
    "# traverse through every member list\n",
    "# modify the range to get more users\n",
    "\n",
    "member_list_page_no = 5\n",
    "user_ids = []\n",
    "for idx in range(1, member_list_page_no + 1):\n",
    "    print \"Member List \" + str(idx)\n",
    "    get_online_users(idx, user_ids)\n",
    "\n",
    "print \"Total online users found:\"\n",
    "print len(user_ids)"
   ]
  },
  {
   "cell_type": "markdown",
   "metadata": {},
   "source": [
    "Index the Steam user ID since each ID is too long. Otherwise it'll introduce overflow in the recommendation algorithm we use later."
   ]
  },
  {
   "cell_type": "code",
   "execution_count": 5,
   "metadata": {
    "collapsed": true
   },
   "outputs": [],
   "source": [
    "def dump_user_id(user_ids, user_out_file):\n",
    "    with open(user_out_file, 'w') as f:\n",
    "        for idx in range(0, len(user_ids)):\n",
    "            user_id_idx = {'user_idx': idx, 'user_id': user_ids[idx]}\n",
    "            json.dump(user_id_idx, f)\n",
    "            f.write('\\n')"
   ]
  },
  {
   "cell_type": "code",
   "execution_count": null,
   "metadata": {
    "collapsed": true
   },
   "outputs": [],
   "source": [
    "dump_user_id(user_ids, 'user_idx_sample.json')"
   ]
  },
  {
   "cell_type": "markdown",
   "metadata": {},
   "source": [
    "## User Info Summaries\n",
    "\n",
    "Using GetPlayerSummaries (v0002) [API](https://developer.valvesoftware.com/wiki/Steam_Web_API#GetUserStatsForGame_.28v0002.29)\n",
    "\n",
    "Note: \n",
    "1. the Steam ID is appended to each record since the original record does not hold such information\n",
    "2. we need to do some data cleaning during json object extraction since some fields or json hierarchies are not quite useful"
   ]
  },
  {
   "cell_type": "code",
   "execution_count": 6,
   "metadata": {
    "collapsed": true
   },
   "outputs": [],
   "source": [
    "def process_json_obj(resp, user_out_file, user_id):\n",
    "    if 'user_summary' in user_out_file:\n",
    "        # corner case: list index out of range\n",
    "        try:\n",
    "            obj = resp.json()['response']['players'][0]\n",
    "        except:\n",
    "            obj = {'steamid' : user_id}\n",
    "    elif 'user_owned_games' in user_out_file:\n",
    "        obj = resp.json()['response']\n",
    "        obj = {'steamid' : user_id, 'game_count' : obj['game_count'], 'games' : obj['games']}\n",
    "    elif 'user_friend_list' in user_out_file:\n",
    "        obj = resp.json()['friendslist']\n",
    "        obj = {'steamid' : user_id, 'friends' : obj['friends']}\n",
    "    elif 'user_recently_played_games' in user_out_file:\n",
    "        obj = resp.json()['response']\n",
    "        try:\n",
    "            obj = {'steamid' : user_id, 'total_count' : obj['total_count'], 'games' : obj['games']}\n",
    "        except:\n",
    "            # corner case: total_count is zero\n",
    "            obj = {'steamid' : user_id, 'total_count' : obj['total_count'], 'games' : []}\n",
    "    return obj\n",
    "\n",
    "def dump_user_info(url, user_ids, user_out_file):\n",
    "    with open(user_out_file, 'w') as f:\n",
    "        for user_id in user_ids:\n",
    "            url_temp = url + str(user_id)\n",
    "            resp = requests.get(url_temp)\n",
    "            # resp = requests.head(url_temp)\n",
    "            obj = process_json_obj(resp, user_out_file, user_id)\n",
    "            json.dump(obj, f)\n",
    "            f.write('\\n')"
   ]
  },
  {
   "cell_type": "code",
   "execution_count": 36,
   "metadata": {
    "collapsed": true
   },
   "outputs": [],
   "source": [
    "url = 'http://api.steampowered.com/ISteamUser/GetPlayerSummaries/v0002/?key=' + key + '&steamids='\n",
    "\n",
    "dump_user_info(url, user_ids, 'user_summary_sample.json')"
   ]
  },
  {
   "cell_type": "markdown",
   "metadata": {},
   "source": [
    "## User Owned Games\n",
    "\n",
    "Using GetOwnedGames (v0001) [API](https://developer.valvesoftware.com/wiki/Steam_Web_API#GetOwnedGames_.28v0001.29)"
   ]
  },
  {
   "cell_type": "code",
   "execution_count": 14,
   "metadata": {
    "collapsed": true
   },
   "outputs": [],
   "source": [
    "url = 'http://api.steampowered.com/IPlayerService/GetOwnedGames/v0001/?key=' + key + '&steamid='\n",
    "\n",
    "dump_user_info(url, user_ids, 'user_owned_games_sample.json')"
   ]
  },
  {
   "cell_type": "markdown",
   "metadata": {},
   "source": [
    "## User Friend List\n",
    "\n",
    "Using GetFriendList (v0001) [API](https://developer.valvesoftware.com/wiki/Steam_Web_API#GetFriendList_.28v0001.29)"
   ]
  },
  {
   "cell_type": "code",
   "execution_count": 19,
   "metadata": {
    "collapsed": true
   },
   "outputs": [],
   "source": [
    "url = 'http://api.steampowered.com/ISteamUser/GetFriendList/v0001/?key=' + key + '&steamid='\n",
    "\n",
    "dump_user_info(url, user_ids, 'user_friend_list_sample.json')"
   ]
  },
  {
   "cell_type": "markdown",
   "metadata": {},
   "source": [
    "## User Recently Played Games\n",
    "\n",
    "Using GetRecentlyPlayedGames (v0001) [API](https://developer.valvesoftware.com/wiki/Steam_Web_API#GetRecentlyPlayedGames_.28v0001.29)"
   ]
  },
  {
   "cell_type": "code",
   "execution_count": 32,
   "metadata": {
    "collapsed": true
   },
   "outputs": [],
   "source": [
    "url = 'http://api.steampowered.com/IPlayerService/GetRecentlyPlayedGames/v0001/?key=' + key + '&steamid='\n",
    "\n",
    "dump_user_info(url, user_ids, 'user_recently_played_games_sample.json')"
   ]
  },
  {
   "cell_type": "markdown",
   "metadata": {},
   "source": [
    "## Get Member ID - Multithreading\n",
    "\n",
    "Modify the member ID retrievial process to accomodate multi-threading. Reuse get_user_id and get_online_users functions. Note, if the number of pages to iterate is small, then multithreading may yield to lower efficiency compared to single threading."
   ]
  },
  {
   "cell_type": "code",
   "execution_count": null,
   "metadata": {
    "collapsed": false
   },
   "outputs": [],
   "source": [
    "# Multithreaded version of Get_member_ID process\n",
    "pages_to_iterate = 400\n",
    "concurrency = 10\n",
    "# each thread gets its own \"user_ids_mt\" list\n",
    "user_ids_mt = defaultdict(list)\n",
    "\n",
    "def get_online_users_wrapper(lower_bound, upper_bound, user_ids_local):\n",
    "    for idx in range(pages_lower_bound, pages_upper_bound):\n",
    "        get_online_users(idx, user_ids_local)\n",
    "\n",
    "threadlist = []\n",
    "for thread_id in range(concurrency):\n",
    "    user_ids_local = user_ids_mt[thread_id]\n",
    "    pages_lower_bound = pages_to_iterate / concurrency * thread_id + 1\n",
    "    pages_upper_bound = pages_to_iterate / concurrency + pages_lower_bound\n",
    "    # print pages_lower_bound\n",
    "    # print pages_upper_bound\n",
    "    thread = Thread(target = get_online_users_wrapper, args = (pages_lower_bound, pages_upper_bound, user_ids_local,))\n",
    "    thread.start()\n",
    "    threadlist.append(thread)\n",
    "\n",
    "for thread in threadlist:\n",
    "    thread.join()"
   ]
  },
  {
   "cell_type": "markdown",
   "metadata": {},
   "source": [
    "Like single thread case, index the Steam ID to avoid overflow."
   ]
  },
  {
   "cell_type": "code",
   "execution_count": 8,
   "metadata": {
    "collapsed": false
   },
   "outputs": [
    {
     "name": "stdout",
     "output_type": "stream",
     "text": [
      "Total users found in the first 400 pages of online member list:\n",
      "2385\n"
     ]
    }
   ],
   "source": [
    "user_ids_flatten = []\n",
    "for concur in range(concurrency):\n",
    "    user_ids_flatten.extend(user_ids_mt[concur])\n",
    "\n",
    "print \"Total users found in the first \" + str(pages_to_iterate) + \" pages of online member list:\"\n",
    "print len(user_ids_flatten)"
   ]
  },
  {
   "cell_type": "code",
   "execution_count": 9,
   "metadata": {
    "collapsed": true
   },
   "outputs": [],
   "source": [
    "dump_user_id(user_ids_flatten, 'user_idx_full.json')"
   ]
  },
  {
   "cell_type": "markdown",
   "metadata": {},
   "source": [
    "## User Info Summaries\n",
    "\n",
    "The biggist challenge is to ensure the write to file is thread-safe. There are two fundamental methods to guarantee that:\n",
    "\n",
    "1. Using lock acquisition before write, and release the lock after the write\n",
    "2. Write the objects to queue, and write objects fetched from queue to file. Queue can guarantee thread-safe\n",
    "\n",
    "Here we are using method 2, since the first one might impose potential performance overhead. Depending on OS features, the time taken to lock and unlock the file as well as rewrite it for every request may be more than you expect."
   ]
  },
  {
   "cell_type": "code",
   "execution_count": 10,
   "metadata": {
    "collapsed": true
   },
   "outputs": [],
   "source": [
    "write_queue = Queue()\n",
    "\n",
    "# enqueue thread\n",
    "def dump_user_info_mt(url, user_ids_local, write_queue, out_file):\n",
    "    for user_id in user_ids_local:\n",
    "        url_temp = url + str(user_id)\n",
    "        resp = requests.get(url_temp)\n",
    "        obj = process_json_obj(resp, out_file, user_id)\n",
    "        # print obj\n",
    "        write_queue.put(obj)\n",
    "\n",
    "# write to file from queue thread\n",
    "def write_from_queue(write_queue, out_file):\n",
    "    with open(out_file, 'w') as f:\n",
    "        while(True):\n",
    "            if write_queue.empty():\n",
    "                continue\n",
    "            obj = write_queue.get()\n",
    "            if (obj == 'kill'):\n",
    "                break\n",
    "            json.dump(obj, f)\n",
    "            f.write('\\n')\n",
    "        f.flush()\n",
    "        \n",
    "def dump_user_info_mt_wrapper(url, user_ids_mt, out_file):\n",
    "    write_queue = Queue()\n",
    "    \n",
    "    # spawn enqueue threads\n",
    "    threadlist = []\n",
    "    for thread_id in range(len(user_ids_mt.keys())):\n",
    "        user_ids_local = user_ids_mt[thread_id]\n",
    "        thread = Thread(target = dump_user_info_mt, args = (url, user_ids_local, write_queue, out_file,))\n",
    "        thread.start()\n",
    "        threadlist.append(thread)\n",
    "    \n",
    "    # spawn dequeue thread\n",
    "    dequeue_thread = Thread(target = write_from_queue, args = (write_queue, out_file,))\n",
    "    dequeue_thread.start()\n",
    "    \n",
    "    # join all threads\n",
    "    for thread in threadlist:\n",
    "        thread.join()\n",
    "    \n",
    "    # element types in queue are not necessarily the same\n",
    "    write_queue.put('kill')\n",
    "    # make sure all elements are processed before join the dequeue thread\n",
    "    dequeue_thread.join()"
   ]
  },
  {
   "cell_type": "code",
   "execution_count": 11,
   "metadata": {
    "collapsed": true
   },
   "outputs": [],
   "source": [
    "url = 'http://api.steampowered.com/ISteamUser/GetPlayerSummaries/v0002/?key=' + key + '&steamids='\n",
    "\n",
    "dump_user_info_mt_wrapper(url, user_ids_mt, 'user_summary_full.json')"
   ]
  },
  {
   "cell_type": "markdown",
   "metadata": {},
   "source": [
    "## Other Information\n",
    "\n",
    "Reuse the functions above, we can get other information we need as well."
   ]
  },
  {
   "cell_type": "code",
   "execution_count": 12,
   "metadata": {
    "collapsed": true
   },
   "outputs": [],
   "source": [
    "url = 'http://api.steampowered.com/IPlayerService/GetOwnedGames/v0001/?key=' + key + '&steamid='\n",
    "\n",
    "dump_user_info_mt_wrapper(url, user_ids_mt, 'user_owned_games_full.json')"
   ]
  },
  {
   "cell_type": "code",
   "execution_count": 13,
   "metadata": {
    "collapsed": true
   },
   "outputs": [],
   "source": [
    "url = 'http://api.steampowered.com/ISteamUser/GetFriendList/v0001/?key=' + key + '&steamid='\n",
    "\n",
    "dump_user_info_mt_wrapper(url, user_ids_mt, 'user_friend_list_full.json')"
   ]
  },
  {
   "cell_type": "code",
   "execution_count": 14,
   "metadata": {
    "collapsed": true
   },
   "outputs": [],
   "source": [
    "url = 'http://api.steampowered.com/IPlayerService/GetRecentlyPlayedGames/v0001/?key=' + key + '&steamid='\n",
    "\n",
    "dump_user_info_mt_wrapper(url, user_ids_mt, 'user_recently_played_games_full.json')"
   ]
  }
 ],
 "metadata": {
  "kernelspec": {
   "display_name": "Python 2",
   "language": "python",
   "name": "python2"
  },
  "language_info": {
   "codemirror_mode": {
    "name": "ipython",
    "version": 2
   },
   "file_extension": ".py",
   "mimetype": "text/x-python",
   "name": "python",
   "nbconvert_exporter": "python",
   "pygments_lexer": "ipython2",
   "version": "2.7.11"
  }
 },
 "nbformat": 4,
 "nbformat_minor": 1
}
